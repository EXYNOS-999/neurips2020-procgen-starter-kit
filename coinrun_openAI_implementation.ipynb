{
  "nbformat": 4,
  "nbformat_minor": 0,
  "metadata": {
    "colab": {
      "name": "coinrun_openAI_implementation.ipynb",
      "provenance": [],
      "include_colab_link": true
    },
    "kernelspec": {
      "name": "python3",
      "display_name": "Python 3"
    },
    "accelerator": "GPU"
  },
  "cells": [
    {
      "cell_type": "markdown",
      "metadata": {
        "id": "view-in-github",
        "colab_type": "text"
      },
      "source": [
        "<a href=\"https://colab.research.google.com/github/EXYNOS-999/neurips2020-procgen-starter-kit/blob/playground/coinrun_openAI_implementation.ipynb\" target=\"_parent\"><img src=\"https://colab.research.google.com/assets/colab-badge.svg\" alt=\"Open In Colab\"/></a>"
      ]
    },
    {
      "cell_type": "code",
      "metadata": {
        "id": "vpB1vFXyL8lO",
        "colab_type": "code",
        "colab": {
          "base_uri": "https://localhost:8080/",
          "height": 378
        },
        "outputId": "cf7cd9c4-dc14-41d2-f911-b147c8921d6d"
      },
      "source": [
        "# tcmalloc segfaults on colab https://github.com/googlecolab/colabtools/issues/106\n",
        "import os\n",
        "del os.environ['LD_PRELOAD']\n",
        "!apt-get remove libtcmalloc*"
      ],
      "execution_count": 1,
      "outputs": [
        {
          "output_type": "stream",
          "text": [
            "Reading package lists... Done\n",
            "Building dependency tree       \n",
            "Reading state information... Done\n",
            "Note, selecting 'libtcmalloc-minimal4' for glob 'libtcmalloc*'\n",
            "The following package was automatically installed and is no longer required:\n",
            "  libnvidia-common-440\n",
            "Use 'apt autoremove' to remove it.\n",
            "The following packages will be REMOVED:\n",
            "  google-perftools libgoogle-perftools4 libtcmalloc-minimal4\n",
            "0 upgraded, 0 newly installed, 3 to remove and 59 not upgraded.\n",
            "After this operation, 2,187 kB disk space will be freed.\n",
            "(Reading database ... 144328 files and directories currently installed.)\n",
            "Removing google-perftools (2.5-2.2ubuntu3) ...\n",
            "Removing libgoogle-perftools4 (2.5-2.2ubuntu3) ...\n",
            "Removing libtcmalloc-minimal4 (2.5-2.2ubuntu3) ...\n",
            "Processing triggers for man-db (2.8.3-2ubuntu0.1) ...\n",
            "Processing triggers for libc-bin (2.27-3ubuntu1) ...\n",
            "/sbin/ldconfig.real: /usr/local/lib/python3.6/dist-packages/ideep4py/lib/libmkldnn.so.0 is not a symbolic link\n",
            "\n"
          ],
          "name": "stdout"
        }
      ]
    },
    {
      "cell_type": "code",
      "metadata": {
        "id": "GtVlgjsSIxo1",
        "colab_type": "code",
        "colab": {
          "base_uri": "https://localhost:8080/",
          "height": 1000
        },
        "outputId": "cd411ee9-0d28-4ccd-96dc-422086dd2a55"
      },
      "source": [
        "!apt-get update\n",
        "!apt-get install mpich build-essential qt5-default pkg-config"
      ],
      "execution_count": 2,
      "outputs": [
        {
          "output_type": "stream",
          "text": [
            "\r0% [Working]\r            \rGet:1 https://cloud.r-project.org/bin/linux/ubuntu bionic-cran35/ InRelease [3,626 B]\n",
            "\r0% [Connecting to archive.ubuntu.com] [Connecting to security.ubuntu.com (91.18\r0% [Connecting to archive.ubuntu.com] [Connecting to security.ubuntu.com (91.18\r0% [1 InRelease gpgv 3,626 B] [Connecting to archive.ubuntu.com] [Connecting to\r0% [Connecting to archive.ubuntu.com] [Connecting to security.ubuntu.com (91.18\r                                                                               \rIgn:2 https://developer.download.nvidia.com/compute/cuda/repos/ubuntu1804/x86_64  InRelease\n",
            "\r0% [Connecting to archive.ubuntu.com (91.189.88.152)] [Waiting for headers] [Wa\r                                                                               \rGet:3 http://security.ubuntu.com/ubuntu bionic-security InRelease [88.7 kB]\n",
            "\r0% [Connecting to archive.ubuntu.com (91.189.88.152)] [3 InRelease 2,586 B/88.7\r                                                                               \rHit:4 http://ppa.launchpad.net/graphics-drivers/ppa/ubuntu bionic InRelease\n",
            "\r0% [Connecting to archive.ubuntu.com (91.189.88.152)] [3 InRelease 2,586 B/88.7\r                                                                               \rIgn:5 https://developer.download.nvidia.com/compute/machine-learning/repos/ubuntu1804/x86_64  InRelease\n",
            "\r0% [Waiting for headers] [3 InRelease 2,586 B/88.7 kB 3%] [Connecting to ppa.la\r0% [4 InRelease gpgv 21.3 kB] [Waiting for headers] [3 InRelease 2,586 B/88.7 k\r                                                                               \rGet:6 https://developer.download.nvidia.com/compute/cuda/repos/ubuntu1804/x86_64  Release [697 B]\n",
            "\r0% [4 InRelease gpgv 21.3 kB] [Waiting for headers] [3 InRelease 2,586 B/88.7 k\r                                                                               \rGet:7 https://developer.download.nvidia.com/compute/machine-learning/repos/ubuntu1804/x86_64  Release [564 B]\n",
            "\r0% [4 InRelease gpgv 21.3 kB] [Waiting for headers] [3 InRelease 2,586 B/88.7 k\r                                                                               \rGet:8 https://developer.download.nvidia.com/compute/cuda/repos/ubuntu1804/x86_64  Release.gpg [801 B]\n",
            "\r0% [4 InRelease gpgv 21.3 kB] [Waiting for headers] [3 InRelease 5,482 B/88.7 k\r0% [4 InRelease gpgv 21.3 kB] [Waiting for headers] [3 InRelease 5,482 B/88.7 k\r                                                                               \rGet:9 https://developer.download.nvidia.com/compute/machine-learning/repos/ubuntu1804/x86_64  Release.gpg [833 B]\n",
            "\r0% [4 InRelease gpgv 21.3 kB] [Waiting for headers] [3 InRelease 5,482 B/88.7 k\r0% [4 InRelease gpgv 21.3 kB] [Waiting for headers] [3 InRelease 5,482 B/88.7 k\r0% [Waiting for headers] [3 InRelease 14.2 kB/88.7 kB 16%] [Connecting to ppa.l\r0% [8 Release.gpg gpgv 697 B] [Waiting for headers] [3 InRelease 14.2 kB/88.7 k\r0% [Waiting for headers] [3 InRelease 14.2 kB/88.7 kB 16%] [Connecting to ppa.l\r0% [9 Release.gpg gpgv 564 B] [Waiting for headers] [3 InRelease 14.2 kB/88.7 k\r0% [Waiting for headers] [3 InRelease 17.1 kB/88.7 kB 19%] [Waiting for headers\r                                                                               \rHit:10 http://archive.ubuntu.com/ubuntu bionic InRelease\n",
            "\r0% [Waiting for headers] [3 InRelease 17.1 kB/88.7 kB 19%] [Waiting for headers\r0% [10 InRelease gpgv 242 kB] [Waiting for headers] [3 InRelease 20.0 kB/88.7 k\r0% [Waiting for headers] [3 InRelease 34.4 kB/88.7 kB 39%] [Waiting for headers\r                                                                               \rIgn:11 https://developer.download.nvidia.com/compute/cuda/repos/ubuntu1804/x86_64  Packages\n",
            "\r0% [Waiting for headers] [3 InRelease 40.2 kB/88.7 kB 45%] [Waiting for headers\r                                                                               \rGet:12 https://developer.download.nvidia.com/compute/machine-learning/repos/ubuntu1804/x86_64  Packages [38.7 kB]\n",
            "\r0% [Waiting for headers] [3 InRelease 40.2 kB/88.7 kB 45%] [12 Packages 0 B/38.\r0% [Waiting for headers] [3 InRelease 43.1 kB/88.7 kB 49%] [Waiting for headers\r0% [12 Packages store 0 B] [Waiting for headers] [3 InRelease 43.1 kB/88.7 kB 4\r                                                                               \rGet:11 https://developer.download.nvidia.com/compute/cuda/repos/ubuntu1804/x86_64  Packages [151 kB]\n",
            "\r0% [Waiting for headers] [3 InRelease 43.1 kB/88.7 kB 49%] [11 Packages 49.2 kB\r0% [Waiting for headers] [3 InRelease 43.1 kB/88.7 kB 49%] [Waiting for headers\r0% [11 Packages store 0 B] [Waiting for headers] [3 InRelease 43.1 kB/88.7 kB 4\r0% [Waiting for headers] [3 InRelease 43.1 kB/88.7 kB 49%] [Waiting for headers\r                                                                               \rGet:13 http://archive.ubuntu.com/ubuntu bionic-updates InRelease [88.7 kB]\n",
            "\r0% [13 InRelease 14.2 kB/88.7 kB 16%] [3 InRelease 46.0 kB/88.7 kB 52%] [Waitin\r                                                                               \rGet:14 http://ppa.launchpad.net/marutter/c2d4u3.5/ubuntu bionic InRelease [15.4 kB]\n",
            "Get:15 http://ppa.launchpad.net/marutter/c2d4u3.5/ubuntu bionic/main Sources [1,840 kB]\n",
            "Get:16 http://archive.ubuntu.com/ubuntu bionic-backports InRelease [74.6 kB]\n",
            "Get:17 http://archive.ubuntu.com/ubuntu bionic-updates/main amd64 Packages [1,253 kB]\n",
            "Get:18 http://archive.ubuntu.com/ubuntu bionic-updates/universe amd64 Packages [1,397 kB]\n",
            "Get:19 http://ppa.launchpad.net/marutter/c2d4u3.5/ubuntu bionic/main amd64 Packages [888 kB]\n",
            "Fetched 5,841 kB in 5s (1,180 kB/s)\n",
            "Reading package lists... Done\n",
            "Reading package lists... Done\n",
            "Building dependency tree       \n",
            "Reading state information... Done\n",
            "build-essential is already the newest version (12.4ubuntu1).\n",
            "pkg-config is already the newest version (0.29.1-0ubuntu2).\n",
            "qt5-default is already the newest version (5.9.5+dfsg-0ubuntu2.5).\n",
            "The following package was automatically installed and is no longer required:\n",
            "  libnvidia-common-440\n",
            "Use 'apt autoremove' to remove it.\n",
            "The following additional packages will be installed:\n",
            "  hwloc-nox libcr-dev libcr0 libmpich-dev libmpich12\n",
            "Suggested packages:\n",
            "  blcr-dkms blcr-util mpich-doc\n",
            "The following NEW packages will be installed:\n",
            "  hwloc-nox libcr-dev libcr0 libmpich-dev libmpich12 mpich\n",
            "0 upgraded, 6 newly installed, 0 to remove and 53 not upgraded.\n",
            "Need to get 2,724 kB of archives.\n",
            "After this operation, 14.0 MB of additional disk space will be used.\n",
            "Get:1 http://archive.ubuntu.com/ubuntu bionic/universe amd64 libcr0 amd64 0.8.5-2.3 [18.9 kB]\n",
            "Get:2 http://archive.ubuntu.com/ubuntu bionic/universe amd64 libcr-dev amd64 0.8.5-2.3 [24.4 kB]\n",
            "Get:3 http://archive.ubuntu.com/ubuntu bionic/universe amd64 hwloc-nox amd64 1.11.9-1 [157 kB]\n",
            "Get:4 http://archive.ubuntu.com/ubuntu bionic/universe amd64 libmpich12 amd64 3.3~a2-4 [945 kB]\n",
            "Get:5 http://archive.ubuntu.com/ubuntu bionic/universe amd64 libmpich-dev amd64 3.3~a2-4 [1,374 kB]\n",
            "Get:6 http://archive.ubuntu.com/ubuntu bionic/universe amd64 mpich amd64 3.3~a2-4 [205 kB]\n",
            "Fetched 2,724 kB in 2s (1,151 kB/s)\n",
            "Selecting previously unselected package libcr0.\n",
            "(Reading database ... 144254 files and directories currently installed.)\n",
            "Preparing to unpack .../0-libcr0_0.8.5-2.3_amd64.deb ...\n",
            "Unpacking libcr0 (0.8.5-2.3) ...\n",
            "Selecting previously unselected package libcr-dev.\n",
            "Preparing to unpack .../1-libcr-dev_0.8.5-2.3_amd64.deb ...\n",
            "Unpacking libcr-dev (0.8.5-2.3) ...\n",
            "Selecting previously unselected package hwloc-nox.\n",
            "Preparing to unpack .../2-hwloc-nox_1.11.9-1_amd64.deb ...\n",
            "Unpacking hwloc-nox (1.11.9-1) ...\n",
            "Selecting previously unselected package libmpich12:amd64.\n",
            "Preparing to unpack .../3-libmpich12_3.3~a2-4_amd64.deb ...\n",
            "Unpacking libmpich12:amd64 (3.3~a2-4) ...\n",
            "Selecting previously unselected package libmpich-dev.\n",
            "Preparing to unpack .../4-libmpich-dev_3.3~a2-4_amd64.deb ...\n",
            "Unpacking libmpich-dev (3.3~a2-4) ...\n",
            "Selecting previously unselected package mpich.\n",
            "Preparing to unpack .../5-mpich_3.3~a2-4_amd64.deb ...\n",
            "Unpacking mpich (3.3~a2-4) ...\n",
            "Setting up hwloc-nox (1.11.9-1) ...\n",
            "Setting up libcr0 (0.8.5-2.3) ...\n",
            "Setting up libcr-dev (0.8.5-2.3) ...\n",
            "Setting up libmpich12:amd64 (3.3~a2-4) ...\n",
            "Setting up libmpich-dev (3.3~a2-4) ...\n",
            "update-alternatives: renaming libmpi.so slave link from /usr/lib/x86_64-linux-gnu/libmpi.so to /usr/lib/libmpi.so\n",
            "update-alternatives: renaming libmpi++.so slave link from /usr/lib/x86_64-linux-gnu/libmpi++.so to /usr/lib/libmpi++.so\n",
            "Setting up mpich (3.3~a2-4) ...\n",
            "Processing triggers for man-db (2.8.3-2ubuntu0.1) ...\n",
            "Processing triggers for libc-bin (2.27-3ubuntu1) ...\n",
            "/sbin/ldconfig.real: /usr/local/lib/python3.6/dist-packages/ideep4py/lib/libmkldnn.so.0 is not a symbolic link\n",
            "\n"
          ],
          "name": "stdout"
        }
      ]
    },
    {
      "cell_type": "code",
      "metadata": {
        "id": "RcYfaQ1fIROy",
        "colab_type": "code",
        "colab": {
          "base_uri": "https://localhost:8080/",
          "height": 112
        },
        "outputId": "a553dde6-f921-4ffe-fa69-97e240de9270"
      },
      "source": [
        "!git clone https://github.com/openai/coinrun"
      ],
      "execution_count": 3,
      "outputs": [
        {
          "output_type": "stream",
          "text": [
            "Cloning into 'coinrun'...\n",
            "remote: Enumerating objects: 608, done.\u001b[K\n",
            "remote: Total 608 (delta 0), reused 0 (delta 0), pack-reused 608\u001b[K\n",
            "Receiving objects: 100% (608/608), 35.86 MiB | 8.39 MiB/s, done.\n",
            "Resolving deltas: 100% (73/73), done.\n"
          ],
          "name": "stdout"
        }
      ]
    },
    {
      "cell_type": "code",
      "metadata": {
        "id": "2UCsU1ECJANO",
        "colab_type": "code",
        "colab": {
          "base_uri": "https://localhost:8080/",
          "height": 968
        },
        "outputId": "4084e341-ac0e-4f5f-e066-c7276c219874"
      },
      "source": [
        "!pip install -r coinrun/requirements.txt"
      ],
      "execution_count": 4,
      "outputs": [
        {
          "output_type": "stream",
          "text": [
            "Collecting https://github.com/openai/baselines/archive/7139a66d333b94c2dafc4af35f6a8c7598361df6.zip (from -r coinrun/requirements.txt (line 6))\n",
            "\u001b[?25l  Downloading https://github.com/openai/baselines/archive/7139a66d333b94c2dafc4af35f6a8c7598361df6.zip\n",
            "\u001b[K     | 6.9MB 12.1MB/s\n",
            "\u001b[?25hRequirement already satisfied: numpy~=1.15 in /usr/local/lib/python3.6/dist-packages (from -r coinrun/requirements.txt (line 1)) (1.18.5)\n",
            "Collecting gym==0.10.0\n",
            "\u001b[?25l  Downloading https://files.pythonhosted.org/packages/8e/2a/65b7f5abbace0eb0d607fa89902299b59277017ff70ac005b3a3707fefd2/gym-0.10.0.tar.gz (118kB)\n",
            "\u001b[K     |████████████████████████████████| 122kB 14.4MB/s \n",
            "\u001b[?25hCollecting pyglet~=1.3.2\n",
            "\u001b[?25l  Downloading https://files.pythonhosted.org/packages/26/1d/4a23e9aad6b309012f04e6947717237ea526b351fecd58f33fa4bda5d65c/pyglet-1.3.3-py2.py3-none-any.whl (1.0MB)\n",
            "\u001b[K     |████████████████████████████████| 1.0MB 25.6MB/s \n",
            "\u001b[?25hCollecting mpi4py~=3.0\n",
            "\u001b[?25l  Downloading https://files.pythonhosted.org/packages/ec/8f/bbd8de5ba566dd77e408d8136e2bab7fdf2b97ce06cab830ba8b50a2f588/mpi4py-3.0.3.tar.gz (1.4MB)\n",
            "\u001b[K     |████████████████████████████████| 1.4MB 48.0MB/s \n",
            "\u001b[?25hRequirement already satisfied: joblib~=0.12 in /usr/local/lib/python3.6/dist-packages (from -r coinrun/requirements.txt (line 5)) (0.15.1)\n",
            "Requirement already satisfied: scipy in /usr/local/lib/python3.6/dist-packages (from baselines==0.1.5->-r coinrun/requirements.txt (line 6)) (1.4.1)\n",
            "Requirement already satisfied: tqdm in /usr/local/lib/python3.6/dist-packages (from baselines==0.1.5->-r coinrun/requirements.txt (line 6)) (4.41.1)\n",
            "Requirement already satisfied: dill in /usr/local/lib/python3.6/dist-packages (from baselines==0.1.5->-r coinrun/requirements.txt (line 6)) (0.3.1.1)\n",
            "Requirement already satisfied: progressbar2 in /usr/local/lib/python3.6/dist-packages (from baselines==0.1.5->-r coinrun/requirements.txt (line 6)) (3.38.0)\n",
            "Requirement already satisfied: cloudpickle in /usr/local/lib/python3.6/dist-packages (from baselines==0.1.5->-r coinrun/requirements.txt (line 6)) (1.3.0)\n",
            "Requirement already satisfied: click in /usr/local/lib/python3.6/dist-packages (from baselines==0.1.5->-r coinrun/requirements.txt (line 6)) (7.1.2)\n",
            "Requirement already satisfied: opencv-python in /usr/local/lib/python3.6/dist-packages (from baselines==0.1.5->-r coinrun/requirements.txt (line 6)) (4.1.2.30)\n",
            "Requirement already satisfied: requests>=2.0 in /usr/local/lib/python3.6/dist-packages (from gym==0.10.0->-r coinrun/requirements.txt (line 2)) (2.23.0)\n",
            "Requirement already satisfied: six in /usr/local/lib/python3.6/dist-packages (from gym==0.10.0->-r coinrun/requirements.txt (line 2)) (1.12.0)\n",
            "Requirement already satisfied: future in /usr/local/lib/python3.6/dist-packages (from pyglet~=1.3.2->-r coinrun/requirements.txt (line 3)) (0.16.0)\n",
            "Requirement already satisfied: python-utils>=2.3.0 in /usr/local/lib/python3.6/dist-packages (from progressbar2->baselines==0.1.5->-r coinrun/requirements.txt (line 6)) (2.4.0)\n",
            "Requirement already satisfied: chardet<4,>=3.0.2 in /usr/local/lib/python3.6/dist-packages (from requests>=2.0->gym==0.10.0->-r coinrun/requirements.txt (line 2)) (3.0.4)\n",
            "Requirement already satisfied: idna<3,>=2.5 in /usr/local/lib/python3.6/dist-packages (from requests>=2.0->gym==0.10.0->-r coinrun/requirements.txt (line 2)) (2.9)\n",
            "Requirement already satisfied: urllib3!=1.25.0,!=1.25.1,<1.26,>=1.21.1 in /usr/local/lib/python3.6/dist-packages (from requests>=2.0->gym==0.10.0->-r coinrun/requirements.txt (line 2)) (1.24.3)\n",
            "Requirement already satisfied: certifi>=2017.4.17 in /usr/local/lib/python3.6/dist-packages (from requests>=2.0->gym==0.10.0->-r coinrun/requirements.txt (line 2)) (2020.4.5.2)\n",
            "Building wheels for collected packages: gym, mpi4py, baselines\n",
            "  Building wheel for gym (setup.py) ... \u001b[?25l\u001b[?25hdone\n",
            "  Created wheel for gym: filename=gym-0.10.0-cp36-none-any.whl size=162337 sha256=bc57a3a519c8725b84d4a8375be0744157a311e02b18467de7b3b81167344076\n",
            "  Stored in directory: /root/.cache/pip/wheels/9e/a1/97/43d437ba0a406667ab42abc498653356832983c69c16284290\n",
            "  Building wheel for mpi4py (setup.py) ... \u001b[?25l\u001b[?25hdone\n",
            "  Created wheel for mpi4py: filename=mpi4py-3.0.3-cp36-cp36m-linux_x86_64.whl size=2074430 sha256=2830be659d16cbc5fccf4f464af06adeca42de2af3f49d2ebf47fd0928a2cb8f\n",
            "  Stored in directory: /root/.cache/pip/wheels/18/e0/86/2b713dd512199096012ceca61429e12b960888de59818871d6\n",
            "  Building wheel for baselines (setup.py) ... \u001b[?25l\u001b[?25hdone\n",
            "  Created wheel for baselines: filename=baselines-0.1.5-cp36-none-any.whl size=210129 sha256=428d06d7143773d8043e111e8ebe4b2cce26077b4c6350abfe56f97b4858f1ba\n",
            "  Stored in directory: /tmp/pip-ephem-wheel-cache-_afrtl7t/wheels/cd/11/fb/b96c2950283dad6d35bbd000d4cce8ec8cbc02dcea4e480616\n",
            "Successfully built gym mpi4py baselines\n",
            "\u001b[31mERROR: dopamine-rl 1.0.5 has requirement gym>=0.10.5, but you'll have gym 0.10.0 which is incompatible.\u001b[0m\n",
            "Installing collected packages: pyglet, gym, mpi4py, baselines\n",
            "  Found existing installation: pyglet 1.5.0\n",
            "    Uninstalling pyglet-1.5.0:\n",
            "      Successfully uninstalled pyglet-1.5.0\n",
            "  Found existing installation: gym 0.17.2\n",
            "    Uninstalling gym-0.17.2:\n",
            "      Successfully uninstalled gym-0.17.2\n",
            "Successfully installed baselines-0.1.5 gym-0.10.0 mpi4py-3.0.3 pyglet-1.3.3\n"
          ],
          "name": "stdout"
        }
      ]
    },
    {
      "cell_type": "code",
      "metadata": {
        "id": "ykf-cBXgIUCK",
        "colab_type": "code",
        "colab": {}
      },
      "source": [
        "# alter sys path instead of pip install -e to avoid colab import issues\n",
        "import sys\n",
        "sys.path.insert(0, 'coinrun')"
      ],
      "execution_count": 5,
      "outputs": []
    },
    {
      "cell_type": "code",
      "metadata": {
        "id": "5yd0csNkMDhV",
        "colab_type": "code",
        "colab": {
          "base_uri": "https://localhost:8080/",
          "height": 1000
        },
        "outputId": "669beeec-352c-4d3b-a150-2de8e3f48633"
      },
      "source": [
        "from coinrun.random_agent import random_agent\n",
        "\n",
        "random_agent(max_steps=100)"
      ],
      "execution_count": 6,
      "outputs": [
        {
          "output_type": "stream",
          "text": [
            "Logging to /tmp/openai-2020-06-21-23-41-46-675071\n",
            "step 0 rews [0.]\n",
            "step 1 rews [0.]\n",
            "step 2 rews [0.]\n",
            "step 3 rews [0.]\n",
            "step 4 rews [0.]\n",
            "step 5 rews [0.]\n",
            "step 6 rews [0.]\n",
            "step 7 rews [0.]\n",
            "step 8 rews [0.]\n",
            "step 9 rews [0.]\n",
            "step 10 rews [0.]\n",
            "step 11 rews [0.]\n",
            "step 12 rews [0.]\n",
            "step 13 rews [0.]\n",
            "step 14 rews [0.]\n",
            "step 15 rews [0.]\n",
            "step 16 rews [0.]\n",
            "step 17 rews [0.]\n",
            "step 18 rews [0.]\n",
            "step 19 rews [0.]\n",
            "step 20 rews [0.]\n",
            "step 21 rews [0.]\n",
            "step 22 rews [0.]\n",
            "step 23 rews [0.]\n",
            "step 24 rews [0.]\n",
            "step 25 rews [0.]\n",
            "step 26 rews [0.]\n",
            "step 27 rews [0.]\n",
            "step 28 rews [0.]\n",
            "step 29 rews [0.]\n",
            "step 30 rews [0.]\n",
            "step 31 rews [0.]\n",
            "step 32 rews [0.]\n",
            "step 33 rews [0.]\n",
            "step 34 rews [0.]\n",
            "step 35 rews [0.]\n",
            "step 36 rews [0.]\n",
            "step 37 rews [0.]\n",
            "step 38 rews [0.]\n",
            "step 39 rews [0.]\n",
            "step 40 rews [0.]\n",
            "step 41 rews [0.]\n",
            "step 42 rews [0.]\n",
            "step 43 rews [0.]\n",
            "step 44 rews [0.]\n",
            "step 45 rews [0.]\n",
            "step 46 rews [0.]\n",
            "step 47 rews [0.]\n",
            "step 48 rews [0.]\n",
            "step 49 rews [0.]\n",
            "step 50 rews [0.]\n",
            "step 51 rews [0.]\n",
            "step 52 rews [0.]\n",
            "step 53 rews [0.]\n",
            "step 54 rews [0.]\n",
            "step 55 rews [0.]\n",
            "step 56 rews [0.]\n",
            "step 57 rews [0.]\n",
            "step 58 rews [0.]\n",
            "step 59 rews [0.]\n",
            "step 60 rews [0.]\n",
            "step 61 rews [0.]\n",
            "step 62 rews [0.]\n",
            "step 63 rews [0.]\n",
            "step 64 rews [0.]\n",
            "step 65 rews [0.]\n",
            "step 66 rews [0.]\n",
            "step 67 rews [0.]\n",
            "step 68 rews [0.]\n",
            "step 69 rews [0.]\n",
            "step 70 rews [0.]\n",
            "step 71 rews [0.]\n",
            "step 72 rews [0.]\n",
            "step 73 rews [0.]\n",
            "step 74 rews [0.]\n",
            "step 75 rews [0.]\n",
            "step 76 rews [0.]\n",
            "step 77 rews [0.]\n",
            "step 78 rews [0.]\n",
            "step 79 rews [0.]\n",
            "step 80 rews [0.]\n",
            "step 81 rews [0.]\n",
            "step 82 rews [0.]\n",
            "step 83 rews [0.]\n",
            "step 84 rews [0.]\n",
            "step 85 rews [0.]\n",
            "step 86 rews [0.]\n",
            "step 87 rews [0.]\n",
            "step 88 rews [0.]\n",
            "step 89 rews [0.]\n",
            "step 90 rews [0.]\n",
            "step 91 rews [0.]\n",
            "step 92 rews [0.]\n",
            "step 93 rews [0.]\n",
            "step 94 rews [0.]\n",
            "step 95 rews [0.]\n",
            "step 96 rews [0.]\n",
            "step 97 rews [0.]\n",
            "step 98 rews [0.]\n",
            "step 99 rews [0.]\n"
          ],
          "name": "stdout"
        }
      ]
    },
    {
      "cell_type": "code",
      "metadata": {
        "id": "00YuQsgfNvRy",
        "colab_type": "code",
        "colab": {
          "base_uri": "https://localhost:8080/",
          "height": 36
        },
        "outputId": "31408850-4655-4f5a-92ae-81497b7f9ee1"
      },
      "source": [
        "cd coinrun"
      ],
      "execution_count": 11,
      "outputs": [
        {
          "output_type": "stream",
          "text": [
            "/content/coinrun\n"
          ],
          "name": "stdout"
        }
      ]
    },
    {
      "cell_type": "code",
      "metadata": {
        "id": "ZO7TaL9PRRUX",
        "colab_type": "code",
        "colab": {
          "base_uri": "https://localhost:8080/",
          "height": 302
        },
        "outputId": "7ac88287-6960-4539-e28f-b9c91a116dcb"
      },
      "source": [
        "!python -m coinrun.train_agent --run-id myrun --num-levels 500"
      ],
      "execution_count": 16,
      "outputs": [
        {
          "output_type": "stream",
          "text": [
            "Logging to /tmp/openai-2020-06-21-23-44-51-808064\n",
            "make: Entering directory '/content/coinrun/coinrun'\n",
            "make: Nothing to be done for 'all'.\n",
            "make: Leaving directory '/content/coinrun/coinrun'\n",
            "2020-06-21 23:44:52.153162: I tensorflow/stream_executor/platform/default/dso_loader.cc:44] Successfully opened dynamic library libcudart.so.10.1\n",
            "Traceback (most recent call last):\n",
            "  File \"/usr/lib/python3.6/runpy.py\", line 193, in _run_module_as_main\n",
            "    \"__main__\", mod_spec)\n",
            "  File \"/usr/lib/python3.6/runpy.py\", line 85, in _run_code\n",
            "    exec(code, run_globals)\n",
            "  File \"/content/coinrun/coinrun/train_agent.py\", line 10, in <module>\n",
            "    from coinrun import setup_utils, policies, wrappers, ppo2\n",
            "  File \"/content/coinrun/coinrun/ppo2.py\", line 24, in <module>\n",
            "    class MpiAdamOptimizer(tf.train.AdamOptimizer):\n",
            "AttributeError: module 'tensorflow._api.v2.train' has no attribute 'AdamOptimizer'\n"
          ],
          "name": "stdout"
        }
      ]
    }
  ]
}